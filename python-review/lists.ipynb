{
 "cells": [
  {
   "cell_type": "markdown",
   "id": "f771f830",
   "metadata": {},
   "source": [
    "# Lists\n",
    "\n",
    "Lists are used to store multiple items in a single variable\n",
    "\n",
    "## Characteristics\n",
    "- Ordered\n",
    "- Changeable\n",
    "- Allow duplicate values"
   ]
  },
  {
   "cell_type": "code",
   "execution_count": 7,
   "id": "18bb7f78",
   "metadata": {},
   "outputs": [
    {
     "name": "stdout",
     "output_type": "stream",
     "text": [
      "['apple', 'banana', 'cherry', 'apple']\n"
     ]
    }
   ],
   "source": [
    "fruits = [\"apple\", \"banana\", \"cherry\", \"apple\"]\n",
    "\n",
    "print(fruits)"
   ]
  },
  {
   "cell_type": "markdown",
   "id": "52d8696f",
   "metadata": {},
   "source": [
    "## List Methods\n",
    "\n",
    "Python lists come with many built-in methods that make them powerful and flexible:\n",
    "\n",
    "- **Append**: Adds an element at the end of the list\n",
    "- **Clear**: Removes all the elements from the list\n",
    "- **Copy**: Returns a copy of the list\n",
    "- **Count**: Returns the number of elements with the specified value\n",
    "- **Extend**: Add the elements of a list, to the end of the current list\n",
    "- **Index**: Returns the index of the first element with the specified value\n",
    "- **Insert**: Adds an element at the specified position\n",
    "- **Pop**: Removes the element at the specified position\n",
    "- **Remove**: Removes the item with the specified value\n",
    "- **Reverse**: Reverses the order of the list\n",
    "- **Sort**: Sort the list\n",
    "\n",
    "Check the following examples:"
   ]
  },
  {
   "cell_type": "code",
   "execution_count": 5,
   "id": "cbdad420",
   "metadata": {},
   "outputs": [
    {
     "name": "stdout",
     "output_type": "stream",
     "text": [
      "['apple', 'banana', 'cherry', 'apple', 'weird_fruit', 'weird_fruit']\n"
     ]
    }
   ],
   "source": [
    "fruits.append('weird_fruit')\n",
    "print(fruits)"
   ]
  },
  {
   "cell_type": "code",
   "execution_count": 10,
   "id": "a8e97b52",
   "metadata": {},
   "outputs": [
    {
     "name": "stdout",
     "output_type": "stream",
     "text": [
      "['apple', 'banana', 'cherry', 'apple']\n",
      "Original list: ['apple', 'banana', 'cherry', 'apple']\n",
      "Copy of list: []\n"
     ]
    }
   ],
   "source": [
    "copy_of_fruits = fruits.copy()\n",
    "print(copy_of_fruits)\n",
    "\n",
    "copy_of_fruits.clear()\n",
    "print(f'Original list: {fruits}')\n",
    "print(f'Copy of list: {copy_of_fruits}')"
   ]
  },
  {
   "cell_type": "code",
   "execution_count": 11,
   "id": "c9e0b250",
   "metadata": {},
   "outputs": [
    {
     "name": "stdout",
     "output_type": "stream",
     "text": [
      "2\n"
     ]
    }
   ],
   "source": [
    "print(fruits.count('apple')) # This should return 2 since there are 2 apples in the list"
   ]
  },
  {
   "cell_type": "code",
   "execution_count": 12,
   "id": "f70a215b",
   "metadata": {},
   "outputs": [
    {
     "name": "stdout",
     "output_type": "stream",
     "text": [
      "['weird_fruit#1', 'weird_fruit#2', 'weird_fruit#3', 'apple', 'banana', 'cherry', 'apple']\n"
     ]
    }
   ],
   "source": [
    "weird_fruits = ['weird_fruit#1', 'weird_fruit#2', 'weird_fruit#3']\n",
    "weird_fruits.extend(fruits)\n",
    "print(weird_fruits)\n",
    "\n"
   ]
  },
  {
   "cell_type": "code",
   "execution_count": 13,
   "id": "b24239c8",
   "metadata": {},
   "outputs": [
    {
     "name": "stdout",
     "output_type": "stream",
     "text": [
      "0\n"
     ]
    }
   ],
   "source": [
    "print(fruits.index('apple')) # This should return 0 since the first apple is at index 0. "
   ]
  },
  {
   "cell_type": "code",
   "execution_count": 14,
   "id": "b6739b26",
   "metadata": {},
   "outputs": [
    {
     "name": "stdout",
     "output_type": "stream",
     "text": [
      "['banana', 'cherry', 'pineapple', 'apple', 'orange']\n"
     ]
    }
   ],
   "source": [
    "new_fruit_list = ['banana', 'cherry', 'apple', 'orange']\n",
    "\n",
    "new_fruit_list.insert(2, 'pineapple')\n",
    "\n",
    "print(new_fruit_list) # This should return ['banana', 'cherry', 'pineapple', 'apple', 'orange']"
   ]
  },
  {
   "cell_type": "code",
   "execution_count": 15,
   "id": "7dda7bf6",
   "metadata": {},
   "outputs": [
    {
     "name": "stdout",
     "output_type": "stream",
     "text": [
      "['banana', 'cherry', 'apple', 'orange']\n"
     ]
    }
   ],
   "source": [
    "new_fruit_list.pop(2) # I want to remove the element at index 2 which is the pineapple I just added\n",
    "print(new_fruit_list) # This should return ['banana', 'cherry', 'apple', 'orange']"
   ]
  },
  {
   "cell_type": "code",
   "execution_count": 16,
   "id": "cf6aa856",
   "metadata": {},
   "outputs": [
    {
     "name": "stdout",
     "output_type": "stream",
     "text": [
      "['banana', 'cherry', 'orange']\n"
     ]
    }
   ],
   "source": [
    "new_fruit_list.remove('apple')\n",
    "print(new_fruit_list) # This should return ['banana', 'cherry', 'orange']"
   ]
  },
  {
   "cell_type": "code",
   "execution_count": 17,
   "id": "df1602cc",
   "metadata": {},
   "outputs": [
    {
     "name": "stdout",
     "output_type": "stream",
     "text": [
      "['orange', 'cherry', 'banana']\n"
     ]
    }
   ],
   "source": [
    "new_fruit_list.reverse()\n",
    "print(new_fruit_list) # This should return ['orange', 'cherry', 'banana']"
   ]
  },
  {
   "cell_type": "code",
   "execution_count": 35,
   "id": "8334e464",
   "metadata": {},
   "outputs": [
    {
     "name": "stdout",
     "output_type": "stream",
     "text": [
      "[1, 2, 3, 4, 5]\n",
      "[5, 4, 3, 2, 1]\n"
     ]
    }
   ],
   "source": [
    "list_of_numbers = [1, 3, 2, 4, 5]\n",
    "list_of_numbers.sort()\n",
    "print(list_of_numbers) # This should return [1, 2, 3, 4, 5]\n",
    "\n",
    "# Better approach: Use sorted() function to create a new sorted list\n",
    "# This doesn't modify the original list\n",
    "descending_list = sorted(list_of_numbers, reverse=True)\n",
    "print(descending_list) # This should return [5, 4, 3, 2, 1]\n",
    "\n",
    "# Alternative: Create a copy first, then sort\n",
    "# descending_list = list_of_numbers.copy()\n",
    "# descending_list.sort(reverse=True)\n",
    "# print(descending_list)\n",
    "\n",
    "\n",
    "\n",
    "\n"
   ]
  },
  {
   "cell_type": "markdown",
   "id": "95d40595",
   "metadata": {},
   "source": [
    "## Advanced List Operations\n",
    "\n",
    "Now let's explore some powerful features that make Python lists incredibly versatile:"
   ]
  },
  {
   "cell_type": "code",
   "execution_count": null,
   "id": "cd047b56",
   "metadata": {},
   "outputs": [
    {
     "name": "stdout",
     "output_type": "stream",
     "text": [
      "['apple', 'banana', 'cherry', 'apple']\n",
      "cherry\n"
     ]
    }
   ],
   "source": [
    "# Negative indexing - Access elements from the end of the list\n",
    "# Python allows negative indices: -1 is the last element, -2 is second to last, etc.\n",
    "print(fruits)\n",
    "print(fruits[-2]) # This should return 'cherry' since it's the second to last element in the list"
   ]
  },
  {
   "cell_type": "code",
   "execution_count": null,
   "id": "e2c98dae",
   "metadata": {},
   "outputs": [
    {
     "name": "stdout",
     "output_type": "stream",
     "text": [
      "['apple', 'banana', 'cherry', 'apple']\n",
      "['banana', 'cherry']\n"
     ]
    }
   ],
   "source": [
    "# List Slicing - Extract portions of a list using [start:end] syntax\n",
    "# Note: The end index is NOT included in the result (exclusive)\n",
    "print(fruits)\n",
    "print(fruits[1:3]) # This should return ['banana', 'cherry'] since it's the range of elements from index 1 to 3 (not included)"
   ]
  },
  {
   "cell_type": "code",
   "execution_count": 24,
   "id": "5c248177",
   "metadata": {},
   "outputs": [
    {
     "name": "stdout",
     "output_type": "stream",
     "text": [
      "['apple', 'banana', 'cherry', 'apple']\n",
      "['banana', 'cherry', 'apple']\n"
     ]
    }
   ],
   "source": [
    "# If I don't specify the end value, it will return all the elements from the start index to the end of the list\n",
    "print(fruits)\n",
    "print(fruits[1:]) # This should return ['banana', 'cherry', 'apple'] since it's the range of elements from index 1 to the end of the list"
   ]
  },
  {
   "cell_type": "code",
   "execution_count": 26,
   "id": "6cc64903",
   "metadata": {},
   "outputs": [
    {
     "name": "stdout",
     "output_type": "stream",
     "text": [
      "['apple', 'banana', 'cherry', 'apple']\n",
      "Yes, apple is in the fruits list\n",
      "Pineapple is not in the fruits list\n"
     ]
    }
   ],
   "source": [
    "print(fruits)\n",
    "# Check if an element exists in the list:\n",
    "if 'apple' in fruits:\n",
    "    print('Yes, apple is in the fruits list')\n",
    "else:\n",
    "    print('No, apple is not in the fruits list')\n",
    "\n",
    "# If I want to check if an element does not exist in the list:\n",
    "if 'pineapple' not in fruits:\n",
    "    print('Pineapple is not in the fruits list')\n",
    "else:\n",
    "    print('Pineapple is in the fruits list')\n",
    "\n",
    "\n",
    "\n"
   ]
  },
  {
   "cell_type": "code",
   "execution_count": 27,
   "id": "df8f98b8",
   "metadata": {},
   "outputs": [
    {
     "name": "stdout",
     "output_type": "stream",
     "text": [
      "['dog', 'cat', 'bird']\n",
      "['elephant', 'cat', 'bird']\n"
     ]
    }
   ],
   "source": [
    "# I can modify the list by using the index to change the value of an element:\n",
    "\n",
    "list_of_animals = ['dog', 'cat', 'bird']\n",
    "print(list_of_animals)\n",
    "list_of_animals[0] = 'elephant' # I can change the value of the first element to 'elephant'\n",
    "print(list_of_animals)"
   ]
  },
  {
   "cell_type": "markdown",
   "id": "9e647adb",
   "metadata": {},
   "source": [
    "## Iterating Through Lists\n",
    "\n",
    "There are several ways to loop through lists in Python. Each method has its own advantages depending on what you need to accomplish:"
   ]
  },
  {
   "cell_type": "code",
   "execution_count": null,
   "id": "bb480f96",
   "metadata": {},
   "outputs": [
    {
     "name": "stdout",
     "output_type": "stream",
     "text": [
      "elephant\n",
      "cat\n",
      "bird\n",
      "The index of elephant is 0\n",
      "The index of cat is 1\n",
      "The index of bird is 2\n"
     ]
    }
   ],
   "source": [
    "# Method 1: Simple iteration - when you only need the values\n",
    "for animal in list_of_animals:\n",
    "    print(animal)\n",
    "\n",
    "# Method 2: Using enumerate() - when you need both index and value\n",
    "# enumerate() returns tuples of (index, value) for each element\n",
    "for index, animal in enumerate(list_of_animals):\n",
    "    print(f'The index of {animal} is {index}')\n",
    "    "
   ]
  },
  {
   "cell_type": "code",
   "execution_count": null,
   "id": "ea3f8581",
   "metadata": {},
   "outputs": [
    {
     "name": "stdout",
     "output_type": "stream",
     "text": [
      "The animal at index 0 is elephant\n",
      "The animal at index 1 is cat\n",
      "The animal at index 2 is bird\n"
     ]
    }
   ],
   "source": [
    "# Method 3: Using range() and len() - traditional index-based approach\n",
    "# Useful when you need precise control over indices\n",
    "for i in range(0, len(list_of_animals)):\n",
    "    print(f'The animal at index {i} is {list_of_animals[i]}')"
   ]
  },
  {
   "cell_type": "code",
   "execution_count": null,
   "id": "8a001840",
   "metadata": {},
   "outputs": [
    {
     "name": "stdout",
     "output_type": "stream",
     "text": [
      "elephant\n",
      "cat\n",
      "bird\n"
     ]
    },
    {
     "data": {
      "text/plain": [
       "[None, None, None]"
      ]
     },
     "execution_count": 31,
     "metadata": {},
     "output_type": "execute_result"
    }
   ],
   "source": [
    "# Method 4: List comprehension for side effects (not recommended for printing)\n",
    "# Note: This works but list comprehension is better suited for creating new lists\n",
    "[print(animal) for animal in list_of_animals]"
   ]
  },
  {
   "cell_type": "markdown",
   "id": "5e02511a",
   "metadata": {},
   "source": [
    "## List Comprehension\n",
    "\n",
    "List comprehension is a powerful Python feature that offers a concise way to create new lists based on existing lists.\n",
    "\n",
    "**Syntax**: `[expression for item in iterable if condition]`\n",
    "\n",
    "**Benefits**:\n",
    "- More readable and Pythonic\n",
    "- Often faster than traditional loops\n",
    "- Reduces code length\n",
    "- Can include conditional filtering\n",
    "\n"
   ]
  },
  {
   "cell_type": "code",
   "execution_count": null,
   "id": "a15b809e",
   "metadata": {},
   "outputs": [
    {
     "name": "stdout",
     "output_type": "stream",
     "text": [
      "['Metallica', 'Iron Maiden']\n"
     ]
    }
   ],
   "source": [
    "list_of_metal_bands = ['Metallica', 'Iron Maiden', 'AC/DC', 'Queen', 'Guns N Roses']\n",
    "\n",
    "# Example: Filter bands that contain the letter 'M'\n",
    "# Traditional approach would be:\n",
    "# newList = []\n",
    "# for band in list_of_metal_bands:\n",
    "#     if 'M' in band:\n",
    "#         newList.append(band)\n",
    "\n",
    "# List comprehension approach (much cleaner):\n",
    "newList = [band for band in list_of_metal_bands if 'M' in band]\n",
    "\n",
    "print(newList)"
   ]
  },
  {
   "cell_type": "markdown",
   "id": "83a44476",
   "metadata": {},
   "source": [
    "## Key Takeaways\n",
    "\n",
    "**Lists are fundamental Python data structures with these essential characteristics:**\n",
    "\n",
    "🔹 **Ordered**: Elements maintain their position  \n",
    "🔹 **Mutable**: Can be modified after creation  \n",
    "🔹 **Allow duplicates**: Same values can appear multiple times  \n",
    "🔹 **Indexed**: Access elements using `[index]` notation  \n",
    "\n",
    "**Essential Operations to Remember:**\n",
    "- **Creation**: `my_list = [1, 2, 3]`\n",
    "- **Access**: `my_list[0]` (first element), `my_list[-1]` (last element)\n",
    "- **Slicing**: `my_list[1:3]` (elements from index 1 to 2)\n",
    "- **Modification**: `my_list[0] = 'new_value'`\n",
    "- **Membership**: `'apple' in my_list`\n",
    "\n",
    "**Most Common Methods:**\n",
    "- `append()` - Add single element to end\n",
    "- `extend()` - Add multiple elements to end  \n",
    "- `insert()` - Add element at specific position\n",
    "- `remove()` - Remove first occurrence of value\n",
    "- `pop()` - Remove and return element at index\n",
    "- `sort()` - Sort list in place\n",
    "- `copy()` - Create shallow copy\n",
    "\n",
    "**Pro Tips:**\n",
    "- Use list comprehension for creating filtered/transformed lists\n",
    "- Remember that slicing creates new lists, while indexing accesses existing elements\n",
    "- Negative indexing is powerful: `-1` is last element, `-2` is second to last\n",
    "- `enumerate()` is your friend when you need both index and value in loops\n",
    "\n",
    "Happy coding! 🐍\n"
   ]
  }
 ],
 "metadata": {
  "kernelspec": {
   "display_name": "Python 3",
   "language": "python",
   "name": "python3"
  },
  "language_info": {
   "codemirror_mode": {
    "name": "ipython",
    "version": 3
   },
   "file_extension": ".py",
   "mimetype": "text/x-python",
   "name": "python",
   "nbconvert_exporter": "python",
   "pygments_lexer": "ipython3",
   "version": "3.9.6"
  }
 },
 "nbformat": 4,
 "nbformat_minor": 5
}
