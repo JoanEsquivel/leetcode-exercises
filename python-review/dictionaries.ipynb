{
 "cells": [
  {
   "cell_type": "markdown",
   "id": "3a3293d6",
   "metadata": {},
   "source": [
    "Dictionaries are used to store data values in key:value pairs WIP"
   ]
  },
  {
   "cell_type": "code",
   "execution_count": 1,
   "id": "567231a9",
   "metadata": {},
   "outputs": [
    {
     "name": "stdout",
     "output_type": "stream",
     "text": [
      "{'name': 'John', 'age': 25, 'city': 'New York'}\n"
     ]
    }
   ],
   "source": [
    "data = {\n",
    "    'name': 'John',\n",
    "    'age': 25,\n",
    "    'city': 'New York'\n",
    "}\n",
    "\n",
    "print(data)\n",
    "\n"
   ]
  }
 ],
 "metadata": {
  "kernelspec": {
   "display_name": "Python 3",
   "language": "python",
   "name": "python3"
  },
  "language_info": {
   "codemirror_mode": {
    "name": "ipython",
    "version": 3
   },
   "file_extension": ".py",
   "mimetype": "text/x-python",
   "name": "python",
   "nbconvert_exporter": "python",
   "pygments_lexer": "ipython3",
   "version": "3.9.6"
  }
 },
 "nbformat": 4,
 "nbformat_minor": 5
}
